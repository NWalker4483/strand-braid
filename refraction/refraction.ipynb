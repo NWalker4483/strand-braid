{
 "cells": [
  {
   "cell_type": "markdown",
   "metadata": {},
   "source": [
    "See https://math.stackexchange.com/questions/150769"
   ]
  },
  {
   "cell_type": "code",
   "execution_count": 1,
   "metadata": {},
   "outputs": [],
   "source": [
    "import sympy\n",
    "from sympy.utilities.codegen import codegen"
   ]
  },
  {
   "cell_type": "code",
   "execution_count": 2,
   "metadata": {},
   "outputs": [],
   "source": [
    "x, d, w, h, n = sympy.symbols('x d w h n')"
   ]
  },
  {
   "cell_type": "code",
   "execution_count": 3,
   "metadata": {},
   "outputs": [],
   "source": [
    "d_minus_x = d - x"
   ]
  },
  {
   "cell_type": "code",
   "execution_count": 4,
   "metadata": {},
   "outputs": [
    {
     "data": {
      "text/latex": [
       "$\\displaystyle d - x$"
      ],
      "text/plain": [
       "d - x"
      ]
     },
     "execution_count": 4,
     "metadata": {},
     "output_type": "execute_result"
    }
   ],
   "source": [
    "d_minus_x"
   ]
  },
  {
   "cell_type": "code",
   "execution_count": 5,
   "metadata": {},
   "outputs": [],
   "source": [
    "f = d_minus_x * sympy.sqrt(x * x + h * h) / (x * sympy.sqrt(d_minus_x * d_minus_x + w * w)) - n"
   ]
  },
  {
   "cell_type": "code",
   "execution_count": 6,
   "metadata": {},
   "outputs": [
    {
     "data": {
      "text/latex": [
       "$\\displaystyle - n + \\frac{\\left(d - x\\right) \\sqrt{h^{2} + x^{2}}}{x \\sqrt{w^{2} + \\left(d - x\\right)^{2}}}$"
      ],
      "text/plain": [
       "-n + (d - x)*sqrt(h**2 + x**2)/(x*sqrt(w**2 + (d - x)**2))"
      ]
     },
     "execution_count": 6,
     "metadata": {},
     "output_type": "execute_result"
    }
   ],
   "source": [
    "f"
   ]
  },
  {
   "cell_type": "code",
   "execution_count": 7,
   "metadata": {},
   "outputs": [
    {
     "data": {
      "text/latex": [
       "$\\displaystyle \\frac{d - x}{\\sqrt{h^{2} + x^{2}} \\sqrt{w^{2} + \\left(d - x\\right)^{2}}} + \\frac{\\left(d - x\\right)^{2} \\sqrt{h^{2} + x^{2}}}{x \\left(w^{2} + \\left(d - x\\right)^{2}\\right)^{\\frac{3}{2}}} - \\frac{\\sqrt{h^{2} + x^{2}}}{x \\sqrt{w^{2} + \\left(d - x\\right)^{2}}} - \\frac{\\left(d - x\\right) \\sqrt{h^{2} + x^{2}}}{x^{2} \\sqrt{w^{2} + \\left(d - x\\right)^{2}}}$"
      ],
      "text/plain": [
       "(d - x)/(sqrt(h**2 + x**2)*sqrt(w**2 + (d - x)**2)) + (d - x)**2*sqrt(h**2 + x**2)/(x*(w**2 + (d - x)**2)**(3/2)) - sqrt(h**2 + x**2)/(x*sqrt(w**2 + (d - x)**2)) - (d - x)*sqrt(h**2 + x**2)/(x**2*sqrt(w**2 + (d - x)**2))"
      ]
     },
     "execution_count": 7,
     "metadata": {},
     "output_type": "execute_result"
    }
   ],
   "source": [
    "sympy.Derivative(f,x,evaluate=True)"
   ]
  },
  {
   "cell_type": "code",
   "execution_count": 8,
   "metadata": {},
   "outputs": [],
   "source": [
    "deriv = sympy.factor(sympy.Derivative(f,x,evaluate=True))"
   ]
  },
  {
   "cell_type": "code",
   "execution_count": 9,
   "metadata": {},
   "outputs": [
    {
     "data": {
      "text/latex": [
       "$\\displaystyle - \\frac{d^{3} h^{2} - 3 d^{2} h^{2} x + d h^{2} w^{2} + 3 d h^{2} x^{2} - h^{2} x^{3} + w^{2} x^{3}}{x^{2} \\sqrt{h^{2} + x^{2}} \\left(d^{2} - 2 d x + w^{2} + x^{2}\\right)^{\\frac{3}{2}}}$"
      ],
      "text/plain": [
       "-(d**3*h**2 - 3*d**2*h**2*x + d*h**2*w**2 + 3*d*h**2*x**2 - h**2*x**3 + w**2*x**3)/(x**2*sqrt(h**2 + x**2)*(d**2 - 2*d*x + w**2 + x**2)**(3/2))"
      ]
     },
     "execution_count": 9,
     "metadata": {},
     "output_type": "execute_result"
    }
   ],
   "source": [
    "deriv"
   ]
  },
  {
   "cell_type": "code",
   "execution_count": 10,
   "metadata": {},
   "outputs": [
    {
     "name": "stdout",
     "output_type": "stream",
     "text": [
      "-(d**3*h**2 - 3*d**2*h**2*x + d*h**2*w**2 + 3*d*h**2*x**2 - h**2*x**3 + w**2*x**3)/(x**2*sqrt(h**2 + x**2)*(d**2 - 2*d*x + w**2 + x**2)**(3/2))\n"
     ]
    }
   ],
   "source": [
    "print(deriv)"
   ]
  },
  {
   "cell_type": "code",
   "execution_count": 11,
   "metadata": {},
   "outputs": [],
   "source": [
    "[(c_name, c_code), (h_name, c_header)] = codegen(('refract_deriv', deriv), \"C99\", \"test\",\n",
    "         header=False, empty=False)"
   ]
  },
  {
   "cell_type": "code",
   "execution_count": 12,
   "metadata": {},
   "outputs": [
    {
     "name": "stdout",
     "output_type": "stream",
     "text": [
      "#include \"test.h\"\n",
      "#include <math.h>\n",
      "double refract_deriv(double d, double h, double w, double x) {\n",
      "   double refract_deriv_result;\n",
      "   refract_deriv_result = -(pow(d, 3)*pow(h, 2) - 3*pow(d, 2)*pow(h, 2)*x + d*pow(h, 2)*pow(w, 2) + 3*d*pow(h, 2)*pow(x, 2) - pow(h, 2)*pow(x, 3) + pow(w, 2)*pow(x, 3))/(pow(x, 2)*sqrt(pow(h, 2) + pow(x, 2))*pow(pow(d, 2) - 2*d*x + pow(w, 2) + pow(x, 2), 3.0/2.0));\n",
      "   return refract_deriv_result;\n",
      "}\n",
      "\n"
     ]
    }
   ],
   "source": [
    "print(c_code)"
   ]
  }
 ],
 "metadata": {
  "kernelspec": {
   "display_name": "Python 3",
   "language": "python",
   "name": "python3"
  },
  "language_info": {
   "codemirror_mode": {
    "name": "ipython",
    "version": 3
   },
   "file_extension": ".py",
   "mimetype": "text/x-python",
   "name": "python",
   "nbconvert_exporter": "python",
   "pygments_lexer": "ipython3",
   "version": "3.8.3"
  }
 },
 "nbformat": 4,
 "nbformat_minor": 4
}
